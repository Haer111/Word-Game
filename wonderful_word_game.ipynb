{
 "cells": [
  {
   "cell_type": "markdown",
   "id": "b78a9e5c",
   "metadata": {},
   "source": [
    "# 유사한 단어 찾기 게임"
   ]
  },
  {
   "cell_type": "markdown",
   "id": "8b30d9b5",
   "metadata": {},
   "source": [
    "1. 사전 학습된 모델 또는 적절한 데이터셋을 찾는다\n",
    "2. 워드 임베딩 모델을 학습시킨다\n",
    "3. 단어 유사도가 0.8 이상인 A, B를 랜덤 추출한다\n",
    "4. A, B와 대응되는 C를 추출한다\n",
    "5. D를 입력받는다\n",
    "\n",
    "=> \n",
    "A:B = C:D 관계에 대응하는 D를 찾는 게임을 만든다.\n",
    "\n",
    "ex) A:산, B: 바다, C:나무, D:물"
   ]
  },
  {
   "cell_type": "markdown",
   "id": "9d5ce1d7",
   "metadata": {},
   "source": [
    "**<출력 예시>**\n",
    "\n",
    "관계 [ 수긍 : 추락 = 대사관 : ?]<br>\n",
    "모델이 예측한 가장 적합한 단어: 잠입<br>\n",
    "당신의 답변과 모델 예측의 유사도: 0.34<br>\n",
    "아쉽네요. 더 생각해보세요."
   ]
  },
  {
   "cell_type": "code",
   "execution_count": 67,
   "id": "5fa06ddc",
   "metadata": {},
   "outputs": [],
   "source": [
    "from datasets import load_dataset\n",
    "\n",
    "ds = load_dataset(\"HAERAE-HUB/KOREAN-SyntheticText-1.5B\")"
   ]
  },
  {
   "cell_type": "markdown",
   "id": "ff91a8f0",
   "metadata": {},
   "source": [
    "https://huggingface.co/datasets/HAERAE-HUB/KOREAN-SyntheticText-1.5B"
   ]
  },
  {
   "cell_type": "code",
   "execution_count": 68,
   "id": "7d5dfa30",
   "metadata": {},
   "outputs": [
    {
     "name": "stdout",
     "output_type": "stream",
     "text": [
      "DatasetDict({\n",
      "    train: Dataset({\n",
      "        features: ['text', '__index_level_0__'],\n",
      "        num_rows: 1552370\n",
      "    })\n",
      "})\n",
      "{'text': '소녀들을 위한 트윈셋의 특별한 날을 위한 드레스\\n\\n특별한 날을 위한 트윈셋의 소녀 드레스는 세심한 장인정신, 디테일, 색상, 대담한 프린트로 소녀들의 개성을 표현할 수 있게 해줍니다. 첫 영성체 드레스는 러플, 튈, 주름, 반짝이, 자수 등의 디테일로 현대적인 공주님들을 위해 디자인되었습니다. 재킷과 팬츠, 롱 스커트, 탑, 쇼츠 등 다양한 아이템을 믹스매치하여 특별한 날을 위한 완벽한 스타일을 완성할 수 있습니다. 또한, 풍부한 색상과 정교한 장식을 갖춘 소녀들을 위한 티셔츠, 봄버 자켓, 블레이저를 제공하여 현대적인 감각을 더합니다.\\n\\n트윈셋의 특별한 날을 위한 소녀 드레스 라인은 아이코닉하고 세련된 니트웨어, 재미있는 액세서리, 그리고 편안하고 우아한 신발로 구성되어 있습니다. 반짝이는 풀 스팽글 드레스는 소녀들의 꿈을 실현시켜 줍니다. 이 컬렉션은 소녀들의 순수함과 우아함을 강조합니다.\\n\\n이번 챕터에서는 트윈셋의 특별한 날을 위한 소녀 드레스 라인의 미학, 장인정신, 그리고 세심한 디테일에 대해 심층적으로 탐구할 것입니다. 우리는 이러한 드레스들이 어떻게 현대 소녀들의 개성과 스타일을 표현하는지, 그리고 어떻게 특별한 날과 이벤트를 더욱 잊지 못할 순간으로 만들어 주는지 이해할 것입니다.\\n\\n우선, 트윈셋의 소녀 드레스의 미학은 \"소녀들의 우정\"을 상징합니다. 이러한 디자인은 소녀들의 순수함, 우정, 그리고 꿈을 반영하며, 그들의 우정과 소중한 순간을 축하합니다. 이를 위해, 디자이너들은 부드럽고 로맨틱한 색상, 그리고 소녀들의 세계를 반영하는 대담하고 재미있는 프린트에 중점을 두었습니다.\\n\\n또한, 장인정신은 트윈셋의 소녀 드레스의 핵심입니다. 각 드레스는 정교한 디테일과 고급스러운 소재로 만들어집니다. 예를 들어, 첫 영성체 드레스의 경우, 여러 층의 부드러운 튈, 정교한 자수, 반짝이는 글리터 디테일을 사용하여 작은 공주님들을 위한 동화 속 드레스를 연상시킵니다. 또한, 트윈셋은 완벽한 착용감을 위해 고품질의 원단과 세심한 마감 처리에 중점을 둡니다.\\n\\n디테일은 트윈셋 드레스를 더욱 특별하게 만듭니다. 러플, 주름, 리본과 같은 디테일은 소녀스러움을 더합니다. 또한, 정교한 꽃 자수, 스팽글, 비즈 장식은 우아함과 세련미를 더합니다. 이러한 디테일은 트윈셋의 드레스를 독특하고 눈에 띄게 만들어 줍니다.\\n\\n트윈셋은 또한 소녀들의 개성을 표현할 수 있는 다양한 아이템을 제공합니다. 재킷, 팬츠, 스커트, 탑, 쇼츠 등 다양한 아이템을 제공하여 믹스매치할 수 있도록 합니다. 예를 들어, 소녀들은 재킷과 롱 스커트를 함께 입어 우아한룩을 연출할 수 있습니다. 또는, 팬츠와 탑을 함께 입어 세련되면서도 편안한 룩을 연출할 수 있습니다. 또한, 봄버 자켓이나 블레이저를 추가하여 현대적인 에지를 더할 수 있습니다.\\n\\n트윈셋의 특별한 날을 위한 소녀 드레스 라인은 니트웨어, 액세서리, 신발과 같은 아이템으로 더욱 완성도를 높였습니다. 니트웨어는 아이코닉한 디자인과 세련된 실루엣으로 편안함과 스타일을 제공합니다. 액세서리 라인은 재미있고 독특한 디자인으로 소녀들의 개성을 표현할 수 있도록 합니다. 마지막으로, 트윈셋의 신발은 편안함과 우아함을 동시에 제공하여 소녀들이 특별한 날 내내 춤추고 즐길 수 있도록 합니다.\\n\\n트윈셋의 소녀 드레스는 단순한 옷 그 이상의 의미를 가지고 있습니다. 그것은 소녀들의 꿈과 우정, 그리고 특별한 순간을 기념합니다. 이 컬렉션은 트윈셋의 세심한 장인정신, 독특한 디테일, 그리고 소녀들의 세계를 포용하는 디자인 미학으로 잊지 못할 순간들을 만들어 줍니다.', '__index_level_0__': 0}\n"
     ]
    }
   ],
   "source": [
    "print(ds)\n",
    "\n",
    "print(ds['train'][0])"
   ]
  },
  {
   "cell_type": "code",
   "execution_count": 69,
   "id": "8c82d12f",
   "metadata": {},
   "outputs": [],
   "source": [
    "ds = ds.remove_columns([column for column in ds['train'].column_names if column != 'text'])"
   ]
  },
  {
   "cell_type": "code",
   "execution_count": 70,
   "id": "81383201",
   "metadata": {},
   "outputs": [
    {
     "name": "stdout",
     "output_type": "stream",
     "text": [
      "DatasetDict({\n",
      "    train: Dataset({\n",
      "        features: ['text'],\n",
      "        num_rows: 1552370\n",
      "    })\n",
      "})\n"
     ]
    }
   ],
   "source": [
    "print(ds)"
   ]
  },
  {
   "cell_type": "code",
   "execution_count": 110,
   "id": "ef0c2ede",
   "metadata": {},
   "outputs": [],
   "source": [
    "ds_small = ds['train'].shuffle(seed=42).select(range(50000))"
   ]
  },
  {
   "cell_type": "code",
   "execution_count": 111,
   "id": "d008bd66",
   "metadata": {},
   "outputs": [
    {
     "name": "stdout",
     "output_type": "stream",
     "text": [
      "Dataset({\n",
      "    features: ['text'],\n",
      "    num_rows: 50000\n",
      "})\n"
     ]
    }
   ],
   "source": [
    "print(ds_small)"
   ]
  },
  {
   "cell_type": "code",
   "execution_count": null,
   "id": "ce44d0b4",
   "metadata": {},
   "outputs": [],
   "source": [
    "from lxml import etree\n",
    "import re\n",
    "from nltk.tokenize import word_tokenize, sent_tokenize\n",
    "from nltk.corpus import stopwords\n",
    "from konlpy.tag import Okt\n",
    "from tqdm import tqdm\n",
    "import random\n",
    "from gensim.models import FastText\n",
    "from gensim import matutils"
   ]
  },
  {
   "cell_type": "code",
   "execution_count": 112,
   "id": "d5000153",
   "metadata": {},
   "outputs": [
    {
     "name": "stderr",
     "output_type": "stream",
     "text": [
      "100%|██████████| 50000/50000 [1:03:58<00:00, 13.03it/s] \n"
     ]
    }
   ],
   "source": [
    "corpus_list = ds_small['text']\n",
    "corpus_list = [re.sub(r'\\([^)]*\\)', '', text) for text in corpus_list]\n",
    "corpus_list = [re.sub(r'[^가-힣\\s]', ' ', text) for text in corpus_list]\n",
    "okt = Okt()\n",
    "ko_stopwords = [\"은\", \"는\", \"이\", \"가\", \"을\", \"를\", \"과\", \"와\", \"들\", \"도\", \"부터\", \"까지\", \"에\", \"나\", \"너\", \"그\", \"걔\", \"얘\"]\n",
    "\n",
    "preprocessed_data = []\n",
    "\n",
    "# for sentence in tqdm(ds_small['text']): \n",
    "#     tokens = okt.morphs(sentence, stem=True)  \n",
    "#     tokens = [token for token in tokens if token not in ko_stopwords]  \n",
    "#     preprocessed_data.append(tokens)\n",
    "\n",
    "for sentence in tqdm(corpus_list): \n",
    "    tokens = okt.morphs(sentence, stem=True)  \n",
    "    tokens = [token for token in tokens if token not in ko_stopwords]  \n",
    "    preprocessed_data.append(tokens)"
   ]
  },
  {
   "cell_type": "code",
   "execution_count": 113,
   "id": "43141809",
   "metadata": {},
   "outputs": [],
   "source": [
    "fasttext_model = FastText(\n",
    "    sentences=preprocessed_data,  \n",
    "    vector_size=100,              \n",
    "    window=5,                     \n",
    "    min_count=5,                  \n",
    "    sg=1                          \n",
    ")"
   ]
  },
  {
   "cell_type": "code",
   "execution_count": 114,
   "id": "44360ef1",
   "metadata": {},
   "outputs": [
    {
     "data": {
      "text/plain": [
       "(35525, 100)"
      ]
     },
     "execution_count": 114,
     "metadata": {},
     "output_type": "execute_result"
    }
   ],
   "source": [
    "fasttext_model.wv.vectors.shape"
   ]
  },
  {
   "cell_type": "code",
   "execution_count": 115,
   "id": "aafe5dec",
   "metadata": {},
   "outputs": [
    {
     "data": {
      "text/plain": [
       "[('습득', 0.6919926404953003),\n",
       " ('생체인식', 0.679587721824646),\n",
       " ('사물인터넷', 0.6630621552467346),\n",
       " ('인포텍', 0.6559842228889465),\n",
       " ('분야', 0.6531525254249573),\n",
       " ('혁신', 0.6514034271240234),\n",
       " ('지식', 0.6485097408294678),\n",
       " ('솔리디티', 0.6402550339698792),\n",
       " ('첨단', 0.6366191506385803),\n",
       " ('기계학습', 0.6348678469657898)]"
      ]
     },
     "execution_count": 115,
     "metadata": {},
     "output_type": "execute_result"
    }
   ],
   "source": [
    "fasttext_model.wv.most_similar('기술')"
   ]
  },
  {
   "cell_type": "code",
   "execution_count": 116,
   "id": "7d5296e7",
   "metadata": {},
   "outputs": [
    {
     "data": {
      "text/plain": [
       "[('독감', 0.7207053303718567),\n",
       " ('고열', 0.720640242099762),\n",
       " ('기침', 0.6801483035087585),\n",
       " ('부비동염', 0.6674129366874695),\n",
       " ('기관지염', 0.6619825959205627),\n",
       " ('몸살', 0.660027265548706),\n",
       " ('머릿니', 0.6574501395225525),\n",
       " ('항바이러스제', 0.6564996838569641),\n",
       " ('위궤양', 0.6561011672019958),\n",
       " ('콩팥', 0.6528971791267395)]"
      ]
     },
     "execution_count": 116,
     "metadata": {},
     "output_type": "execute_result"
    }
   ],
   "source": [
    "fasttext_model.wv.most_similar('감기')"
   ]
  },
  {
   "cell_type": "code",
   "execution_count": 117,
   "id": "bc7cff5f",
   "metadata": {},
   "outputs": [
    {
     "data": {
      "text/plain": [
       "[('웨딩드레스', 0.8086466193199158),\n",
       " ('스웨터', 0.8003941178321838),\n",
       " ('청바지', 0.7885757088661194),\n",
       " ('셔츠', 0.7845620512962341),\n",
       " ('팬츠', 0.7841965556144714),\n",
       " ('정장', 0.7790696024894714),\n",
       " ('블라우스', 0.7687807083129883),\n",
       " ('튤', 0.7626127004623413),\n",
       " ('데님', 0.7619402408599854),\n",
       " ('이브닝', 0.7615557312965393)]"
      ]
     },
     "execution_count": 117,
     "metadata": {},
     "output_type": "execute_result"
    }
   ],
   "source": [
    "fasttext_model.wv.most_similar('드레스')"
   ]
  },
  {
   "cell_type": "code",
   "execution_count": 118,
   "id": "0c6a7c08",
   "metadata": {},
   "outputs": [],
   "source": [
    "vocab = list(fasttext_model.wv.index_to_key)"
   ]
  },
  {
   "cell_type": "code",
   "execution_count": 119,
   "id": "9195623e",
   "metadata": {},
   "outputs": [],
   "source": [
    "def random_pair(min = 0.8):\n",
    "    while True:\n",
    "        a = random.choice(vocab)\n",
    "        similar_words = [word for word, sim in fasttext_model.wv.most_similar(a, topn=50) if sim >= min]\n",
    "        if similar_words:\n",
    "            b = random.choice(similar_words)\n",
    "            return a, b #similar_words가 없는 경우에 에러나서 if 넣음...\n",
    "    \n",
    "def random_word(a, b):\n",
    "    while True:\n",
    "        c = random.choice(vocab)\n",
    "        if c != a and c != b:\n",
    "            return c"
   ]
  },
  {
   "cell_type": "code",
   "execution_count": 165,
   "id": "512354dd",
   "metadata": {},
   "outputs": [],
   "source": [
    "A, B = random_pair()\n",
    "C = fasttext_model.wv.most_similar(positive=[A, B], topn=1)[0][0]"
   ]
  },
  {
   "cell_type": "code",
   "execution_count": 166,
   "id": "9ba93446",
   "metadata": {},
   "outputs": [
    {
     "name": "stdout",
     "output_type": "stream",
     "text": [
      "기슭 나이아가라 산기슭\n"
     ]
    }
   ],
   "source": [
    "print(A, B, C)"
   ]
  },
  {
   "cell_type": "code",
   "execution_count": 169,
   "id": "17cf030c",
   "metadata": {},
   "outputs": [],
   "source": [
    "D = input(f\"관계 [ {A} : {B} = {C} : ?] \\n당신의 답: \")"
   ]
  },
  {
   "cell_type": "code",
   "execution_count": 168,
   "id": "55b59160",
   "metadata": {},
   "outputs": [
    {
     "data": {
      "text/plain": [
       "'늪지'"
      ]
     },
     "execution_count": 168,
     "metadata": {},
     "output_type": "execute_result"
    }
   ],
   "source": [
    "predict_word = fasttext_model.wv.most_similar(positive=[B, C], negative=[A], topn=1)[0][0]\n",
    "predict_word"
   ]
  },
  {
   "cell_type": "code",
   "execution_count": 170,
   "id": "ab9b6969",
   "metadata": {},
   "outputs": [
    {
     "name": "stdout",
     "output_type": "stream",
     "text": [
      "\n",
      "관계 [ 기슭 : 나이아가라 = 산기슭 : ? ]\n",
      "모델이 예측한 가장 적합한 단어: 늪지\n",
      "당신이 선택한 단어: 폭포\n",
      "당신의 답변과 모델 예측의 유사도: 0.69\n",
      "아쉽네요. 더 생각해보세요.\n"
     ]
    }
   ],
   "source": [
    "vd = fasttext_model.wv[D]\n",
    "sim = fasttext_model.wv.similarity(D, predict_word)\n",
    "\n",
    "# 결과 출력\n",
    "print(f\"\\n관계 [ {A} : {B} = {C} : ? ]\")\n",
    "print(f\"모델이 예측한 가장 적합한 단어: {predict_word}\")\n",
    "print(f\"당신이 선택한 단어: {D}\")\n",
    "print(f\"당신의 답변과 모델 예측의 유사도: {sim:.2f}\")\n",
    "\n",
    "if predict_word[1] == D:\n",
    "    print(\"정답!!!\")\n",
    "else:\n",
    "    print(\"아쉽네요. 더 생각해보세요.\")"
   ]
  }
 ],
 "metadata": {
  "kernelspec": {
   "display_name": "nlp_env",
   "language": "python",
   "name": "python3"
  },
  "language_info": {
   "codemirror_mode": {
    "name": "ipython",
    "version": 3
   },
   "file_extension": ".py",
   "mimetype": "text/x-python",
   "name": "python",
   "nbconvert_exporter": "python",
   "pygments_lexer": "ipython3",
   "version": "3.12.11"
  }
 },
 "nbformat": 4,
 "nbformat_minor": 5
}
